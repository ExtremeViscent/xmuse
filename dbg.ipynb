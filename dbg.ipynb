{
 "cells": [
  {
   "cell_type": "code",
   "execution_count": 1,
   "id": "5661b652",
   "metadata": {},
   "outputs": [],
   "source": [
    "from pedalboard import Pedalboard, Reverb, load_plugin, VST3Plugin\n",
    "from pedalboard.io import AudioFile\n",
    "from mido import Message # not part of Pedalboard, but convenient!\n",
    "from utils import *"
   ]
  },
  {
   "cell_type": "code",
   "execution_count": 2,
   "id": "f21a8ba4",
   "metadata": {},
   "outputs": [],
   "source": [
    "instrument = load_plugin(\"C:\\\\Program Files\\\\Common Files\\\\vst3\\\\Serum2.vst3\\\\Contents\\\\x86_64-win\\\\Serum2.vst3\", plugin_name=\"Serum 2\")"
   ]
  },
  {
   "cell_type": "code",
   "execution_count": 3,
   "id": "5cc337dd",
   "metadata": {},
   "outputs": [],
   "source": [
    "target_params = filter_osc_params(instrument)\n",
    "cat_params, cont_params = filter_cat_params(target_params)"
   ]
  },
  {
   "cell_type": "code",
   "execution_count": 14,
   "id": "100a1cdb",
   "metadata": {},
   "outputs": [
    {
     "data": {
      "text/plain": [
       "(0.0, 1.0, 0.16666666666666666)"
      ]
     },
     "execution_count": 14,
     "metadata": {},
     "output_type": "execute_result"
    }
   ],
   "source": [
    "def get_value_range(param):\n",
    "    valid_values = param.valid_values\n",
    "    valid_raw_values = [param.get_raw_value_for_text(v) for v in valid_values]\n",
    "    min_raw, max_raw = min(valid_raw_values), max(valid_raw_values)\n",
    "    step = (max_raw - min_raw) / (len(valid_values) - 1)\n",
    "    return min_raw, max_raw, step\n",
    "get_value_range(v)"
   ]
  },
  {
   "cell_type": "code",
   "execution_count": 23,
   "id": "18286bca",
   "metadata": {},
   "outputs": [],
   "source": [
    "ranges = {}\n",
    "cont_types = {}\n",
    "for k, v in cont_params.items():\n",
    "    if None in v.range:\n",
    "        ranges[k] = get_value_range(v)\n",
    "        cont_types[k] = v.type\n",
    "    else:\n",
    "        ranges[k] = v.range\n",
    "        cont_types[k] = v.type\n",
    "categories = {}\n",
    "cat_types = {}\n",
    "num_categories = {}\n",
    "for k, v in cat_params.items():\n",
    "    categories[k] = v.valid_values\n",
    "    num_categories[k] = len(v.valid_values)\n",
    "    cat_types[k] = v.type"
   ]
  },
  {
   "cell_type": "code",
   "execution_count": 21,
   "id": "e5c386df",
   "metadata": {},
   "outputs": [
    {
     "data": {
      "text/plain": [
       "{'a_octave_oct': -3.30907412336959,\n",
       " 'a_semi_semitones': -4.1488297334383315,\n",
       " 'a_scan_bpm_rate': 0.5236300940965875,\n",
       " 'a_unison': 10.214371108924682,\n",
       " 'b_octave_oct': 1.8191876472804767,\n",
       " 'b_semi_semitones': 1.9752002025057358,\n",
       " 'b_scan_bpm_rate': 0.7060762230338976,\n",
       " 'b_unison': 9.178861477156184,\n",
       " 'c_octave_oct': 2.4379220475708747,\n",
       " 'c_semi_semitones': 3.6485251432773858,\n",
       " 'c_scan_bpm_rate': 0.9206460540070867,\n",
       " 'c_unison': 6.788900836785024,\n",
       " 'sub_octave_oct': -1.2154435668977026,\n",
       " 'filter_1_x': 0.6407977066077988,\n",
       " 'filter_1_y': 0.7000498284111927,\n",
       " 'filter_2_x': 0.8081834321621865,\n",
       " 'filter_2_y': 0.20355626672783012,\n",
       " 'a_enable': 1,\n",
       " 'a_pitch_track': 1,\n",
       " 'a_reverse': 0,\n",
       " 'a_scan_key_track': 0,\n",
       " 'a_loop_mode': 2,\n",
       " 'a_relative_loop': 1,\n",
       " 'a_slice_play_mode': 0,\n",
       " 'a_uni_stack': 0,\n",
       " 'a_warp': 0,\n",
       " 'a_warp_mode': 66,\n",
       " 'a_warp_2': 0,\n",
       " 'a_warp_2_mode': 17,\n",
       " 'b_enable': 1,\n",
       " 'b_pitch_track': 0,\n",
       " 'b_reverse': 0,\n",
       " 'b_scan_key_track': 1,\n",
       " 'b_loop_mode': 3,\n",
       " 'b_relative_loop': 1,\n",
       " 'b_slice_play_mode': 1,\n",
       " 'b_uni_stack': 5,\n",
       " 'b_warp': 0,\n",
       " 'b_warp_mode': 48,\n",
       " 'b_warp_2': 0,\n",
       " 'b_warp_2_mode': 20,\n",
       " 'c_enable': 1,\n",
       " 'c_pitch_track': 0,\n",
       " 'c_reverse': 0,\n",
       " 'c_scan_key_track': 1,\n",
       " 'c_loop_mode': 4,\n",
       " 'c_relative_loop': 0,\n",
       " 'c_slice_play_mode': 1,\n",
       " 'c_uni_stack': 3,\n",
       " 'c_warp': 0,\n",
       " 'c_warp_mode': 11,\n",
       " 'c_warp_2': 0,\n",
       " 'c_warp_2_mode': 25,\n",
       " 'sub_enable': 0,\n",
       " 'sub_pitch_track': 0,\n",
       " 'sub_shape': 4,\n",
       " 'sub_cont_phase': 1,\n",
       " 'filter_1_on': 1,\n",
       " 'filter_2_on': 1,\n",
       " 'arp_enable': 1}"
      ]
     },
     "execution_count": 21,
     "metadata": {},
     "output_type": "execute_result"
    }
   ],
   "source": [
    "def generate_random_param_vector(ranges, num_categories):\n",
    "    param_vector = {}\n",
    "    for k, v in ranges.items():\n",
    "        param_vector[k] = random.uniform(v[0], v[1])\n",
    "    for k, v in num_categories.items():\n",
    "        param_vector[k] = random.randint(0, v - 1)\n",
    "    return param_vector\n",
    "generate_random_param_vector(ranges, num_categories)"
   ]
  },
  {
   "cell_type": "code",
   "execution_count": 26,
   "id": "f4796ada",
   "metadata": {},
   "outputs": [],
   "source": [
    "config = {\n",
    "    \"ranges\": ranges,\n",
    "    \"num_categories\": num_categories,\n",
    "    \"cont_types\": str(cont_types),\n",
    "    \"cat_types\": str(cat_types)\n",
    "}\n",
    "import json\n",
    "conf_file = \"config.json\"\n",
    "with open(conf_file, \"w\") as f:\n",
    "    json.dump(config, f)\n"
   ]
  }
 ],
 "metadata": {
  "kernelspec": {
   "display_name": "vst",
   "language": "python",
   "name": "python3"
  },
  "language_info": {
   "codemirror_mode": {
    "name": "ipython",
    "version": 3
   },
   "file_extension": ".py",
   "mimetype": "text/x-python",
   "name": "python",
   "nbconvert_exporter": "python",
   "pygments_lexer": "ipython3",
   "version": "3.10.18"
  }
 },
 "nbformat": 4,
 "nbformat_minor": 5
}
